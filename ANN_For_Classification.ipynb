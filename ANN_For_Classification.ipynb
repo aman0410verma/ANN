{
  "cells": [
    {
      "cell_type": "code",
      "execution_count": null,
      "metadata": {
        "id": "ZY2MCcUVjRap"
      },
      "outputs": [],
      "source": [
        "import numpy as np\n",
        "import pandas as pd\n",
        "import matplotlib.pyplot as plt\n",
        "import tensorflow as tf\n",
        "from sklearn import *\n",
        "from sklearn.metrics import accuracy_score"
      ]
    },
    {
      "cell_type": "code",
      "execution_count": null,
      "metadata": {
        "colab": {
          "base_uri": "https://localhost:8080/",
          "height": 225
        },
        "id": "NnK4X1UkjfSK",
        "outputId": "5aa681b6-9d9b-4fb9-ca1a-6cd95023973f"
      },
      "outputs": [],
      "source": [
        "df = pd.read_csv('https://raw.githubusercontent.com/satishgunjal/datasets/master/admission_basedon_exam_scores.csv')\n",
        "print('Shape of data= ', df.shape)\n",
        "df.head()"
      ]
    },
    {
      "cell_type": "code",
      "execution_count": null,
      "metadata": {
        "id": "9sbsXPAHpLzF"
      },
      "outputs": [],
      "source": [
        "X = df[['Exam 1 marks', 'Exam 2 marks']]\n",
        "y = df[['Admission status']]"
      ]
    },
    {
      "cell_type": "code",
      "execution_count": null,
      "metadata": {
        "colab": {
          "base_uri": "https://localhost:8080/",
          "height": 352
        },
        "id": "TihFPxOdjhpH",
        "outputId": "a3dfe38b-afee-420c-f191-fe43c09cb282"
      },
      "outputs": [],
      "source": [
        "df_pass = df[df['Admission status'] == 1]\n",
        "df_fail = df[df['Admission status'] == 0]\n",
        "\n",
        "plt.figure(figsize=(10,5))\n",
        "plt.scatter(df_pass['Exam 1 marks'], df_pass['Exam 2 marks'], c = 'green', label = \"Passed\")\n",
        "plt.scatter(df_fail['Exam 1 marks'], df_fail['Exam 2 marks'], c = 'red', label = 'Failed')\n",
        "plt.xlabel(\"Exam 1 marks\")\n",
        "plt.ylabel(\"Exam 2 marks\")\n",
        "plt.legend()"
      ]
    },
    {
      "cell_type": "code",
      "execution_count": null,
      "metadata": {
        "id": "ljYLISB1nx4w"
      },
      "outputs": [],
      "source": [
        "X = preprocessing.normalize(X,norm='l2')\n",
        "y = preprocessing.normalize(y,norm='l2')"
      ]
    },
    {
      "cell_type": "code",
      "execution_count": null,
      "metadata": {
        "colab": {
          "base_uri": "https://localhost:8080/"
        },
        "id": "_8mWiAq7oZqs",
        "outputId": "bef0b7f5-3095-4d28-b463-750a9d273c8b"
      },
      "outputs": [],
      "source": [
        "X.shape,y.shape"
      ]
    },
    {
      "cell_type": "code",
      "execution_count": null,
      "metadata": {
        "id": "whuv5zCivaU_"
      },
      "outputs": [],
      "source": [
        "X_train, X_test, y_train, y_test = model_selection.train_test_split(X, y, test_size=0.2, random_state= 1)"
      ]
    },
    {
      "cell_type": "code",
      "execution_count": null,
      "metadata": {
        "colab": {
          "base_uri": "https://localhost:8080/"
        },
        "id": "JML4CHw-qvkS",
        "outputId": "880d4afe-1ede-4100-9d05-7d01ed088b3f"
      },
      "outputs": [],
      "source": [
        "model_1 = tf.keras.Sequential([tf.keras.layers.Dense(40, activation = 'relu'),\n",
        "                               tf.keras.layers.Dense(20, activation = 'relu'),\n",
        "                               tf.keras.layers.Dense(10, activation = 'relu'), \n",
        "                               tf.keras.layers.Dense(1, activation = 'sigmoid')])\n",
        "model_1.compile(loss = tf.keras.losses.BinaryCrossentropy(), \n",
        "                optimizer = tf.keras.optimizers.Adam(lr=0.01), \n",
        "                metrics = ['accuracy'])\n",
        "model_1.fit(X_train, y_train, epochs = 25, verbose = 1)\n",
        "model_1.evaluate(X_test, y_test)\n",
        "model1.predict{X_test}"
      ]
    }
  ],
  "metadata": {
    "colab": {
      "collapsed_sections": [],
      "provenance": []
    },
    "kernelspec": {
      "display_name": "Python 3",
      "name": "python3"
    },
    "language_info": {
      "name": "python"
    }
  },
  "nbformat": 4,
  "nbformat_minor": 0
}
